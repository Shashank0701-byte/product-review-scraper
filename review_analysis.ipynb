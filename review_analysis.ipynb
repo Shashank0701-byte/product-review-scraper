{
 "cells": [
  {
   "cell_type": "markdown",
   "id": "a87fea81",
   "metadata": {},
   "source": [
    "# Product Review Analysis\n",
    "\n",
    "This notebook analyzes product reviews data to provide insights on ratings, sentiment, and trends over time."
   ]
  },
  {
   "cell_type": "code",
   "execution_count": null,
   "id": "47467f54",
   "metadata": {},
   "outputs": [],
   "source": [
    "import pandas as pd\n",
    "import matplotlib.pyplot as plt\n",
    "import seaborn as sns\n",
    "import numpy as np\n",
    "from wordcloud import WordCloud\n",
    "import warnings\n",
    "warnings.filterwarnings('ignore')\n",
    "\n",
    "# Set style for better-looking plots\n",
    "plt.style.use('seaborn-v0_8')\n",
    "sns.set_palette(\"husl\")\n",
    "\n",
    "# Load the data\n",
    "df = pd.read_csv('scraped_data/processed_reviews_20250905_003849.csv')\n",
    "\n",
    "# Display basic info\n",
    "print(\"Dataset loaded successfully!\")\n",
    "print(f\"Shape: {df.shape}\")\n",
    "print(\"\\nColumns:\")\n",
    "for col in df.columns:\n",
    "    print(f\"  - {col}\")\n",
    "print(\"\\nFirst few rows:\")\n",
    "df.head()"
   ]
  },
  {
   "cell_type": "markdown",
   "id": "577a9a1b",
   "metadata": {},
   "source": [
    "## 1. Average Rating Calculation"
   ]
  },
  {
   "cell_type": "code",
   "execution_count": null,
   "id": "dd3202ce",
   "metadata": {},
   "outputs": [],
   "source": [
    "# Calculate average rating\n",
    "avg_rating = df['rating'].mean()\n",
    "print(f\"Average Rating: {avg_rating:.2f} out of 5.0\")\n",
    "\n",
    "# Additional rating statistics\n",
    "print(f\"\\nRating Statistics:\")\n",
    "print(f\"  - Minimum: {df['rating'].min()}\")\n",
    "print(f\"  - Maximum: {df['rating'].max()}\")\n",
    "print(f\"  - Median: {df['rating'].median()}\")\n",
    "print(f\"  - Standard Deviation: {df['rating'].std():.2f}\")"
   ]
  },
  {
   "cell_type": "markdown",
   "id": "6aa7d9df",
   "metadata": {},
   "source": [
    "## 2. Rating Distribution Visualization"
   ]
  },
  {
   "cell_type": "code",
   "execution_count": null,
   "id": "65b540c1",
   "metadata": {},
   "outputs": [],
   "source": [
    "# Create rating distribution bar chart\n",
    "plt.figure(figsize=(10, 6))\n",
    "\n",
    "# Count ratings\n",
    "rating_counts = df['rating'].value_counts().sort_index()\n",
    "\n",
    "# Create bar chart\n",
    "bars = plt.bar(rating_counts.index, rating_counts.values, color=['#ff9999','#66b3ff','#99ff99','#ffcc99','#ff99cc'])\n",
    "\n",
    "# Add value labels on bars\n",
    "for i, bar in enumerate(bars):\n",
    "    height = bar.get_height()\n",
    "    plt.text(bar.get_x() + bar.get_width()/2., height + 0.1,\n",
    "             f'{int(height)}', ha='center', va='bottom')\n",
    "\n",
    "# Customize the plot\n",
    "plt.title('Distribution of Product Ratings', fontsize=16, pad=20)\n",
    "plt.xlabel('Rating (Stars)', fontsize=12)\n",
    "plt.ylabel('Number of Reviews', fontsize=12)\n",
    "plt.xticks(rating_counts.index)\n",
    "plt.grid(axis='y', alpha=0.3)\n",
    "\n",
    "# Add average line\n",
    "plt.axvline(avg_rating, color='red', linestyle='--', linewidth=2, \n",
    "            label=f'Average Rating: {avg_rating:.2f}')\n",
    "plt.legend()\n",
    "\n",
    "# Show the plot\n",
    "plt.tight_layout()\n",
    "plt.show()\n",
    "\n",
    "# Print distribution percentages\n",
    "print(\"Rating Distribution (%):\")\n",
    "for rating in sorted(df['rating'].unique()):\n",
    "    count = (df['rating'] == rating).sum()\n",
    "    percentage = (count / len(df)) * 100\n",
    "    print(f\"  {rating} stars: {count} reviews ({percentage:.1f}%)\")"
   ]
  },
  {
   "cell_type": "markdown",
   "id": "29b9fbbd",
   "metadata": {},
   "source": [
    "## 3. Word Cloud of Most Common Positive vs Negative Words"
   ]
  },
  {
   "cell_type": "code",
   "execution_count": null,
   "id": "ea570889",
   "metadata": {},
   "outputs": [],
   "source": [
    "# Categorize reviews as positive or negative based on rating\n",
    "df['sentiment'] = df['rating'].apply(lambda x: 'positive' if x >= 4 else ('neutral' if x == 3 else 'negative'))\n",
    "\n",
    "# Separate positive and negative reviews\n",
    "positive_reviews = df[df['sentiment'] == 'positive']\n",
    "negative_reviews = df[df['sentiment'] == 'negative']\n",
    "\n",
    "print(f\"Positive reviews (4-5 stars): {len(positive_reviews)}\")\n",
    "print(f\"Negative reviews (1-2 stars): {len(negative_reviews)}\")\n",
    "print(f\"Neutral reviews (3 stars): {len(df[df['sentiment'] == 'neutral'])}\")"
   ]
  },
  {
   "cell_type": "code",
   "execution_count": null,
   "id": "3d21a7cc",
   "metadata": {},
   "outputs": [],
   "source": [
    "# Function to create word cloud\n",
    "def create_wordcloud(text, title, color='black'):\n",
    "    if not text or len(text.strip()) == 0:\n",
    "        print(f\"No text available for {title}\")\n",
    "        return\n",
    "    \n",
    "    wordcloud = WordCloud(width=800, height=400, background_color='white', \n",
    "                         colormap='viridis', max_words=100).generate(text)\n",
    "    \n",
    "    plt.figure(figsize=(10, 5))\n",
    "    plt.imshow(wordcloud, interpolation='bilinear')\n",
    "    plt.axis('off')\n",
    "    plt.title(title, fontsize=16, pad=20)\n",
    "    plt.tight_layout()\n",
    "    plt.show()"
   ]
  },
  {
   "cell_type": "code",
   "execution_count": null,
   "id": "c2bfec0c",
   "metadata": {},
   "outputs": [],
   "source": [
    "# Combine all cleaned reviews for positive and negative sentiments\n",
    "positive_text = ' '.join(positive_reviews['cleaned_review'].dropna().astype(str))\n",
    "negative_text = ' '.join(negative_reviews['cleaned_review'].dropna().astype(str))\n",
    "\n",
    "# Create word clouds\n",
    "create_wordcloud(positive_text, 'Most Common Words in Positive Reviews (4-5 stars)')\n",
    "create_wordcloud(negative_text, 'Most Common Words in Negative Reviews (1-2 stars)')"
   ]
  },
  {
   "cell_type": "markdown",
   "id": "7f8a8bea",
   "metadata": {},
   "source": [
    "## 4. Timeline Chart Showing How Average Rating Changed Over Time"
   ]
  },
  {
   "cell_type": "code",
   "execution_count": null,
   "id": "d20713ec",
   "metadata": {},
   "outputs": [],
   "source": [
    "# Convert review_date to datetime\n",
    "df['review_date'] = pd.to_datetime(df['review_date'])\n",
    "\n",
    "# Extract month-year for grouping\n",
    "df['month_year'] = df['review_date'].dt.to_period('M')\n",
    "\n",
    "# Calculate average rating by month\n",
    "monthly_avg = df.groupby('month_year')['rating'].agg(['mean', 'count']).reset_index()\n",
    "monthly_avg['month_year'] = monthly_avg['month_year'].astype(str)\n",
    "\n",
    "# Display the timeline data\n",
    "print(\"Monthly Average Ratings:\")\n",
    "print(monthly_avg)"
   ]
  },
  {
   "cell_type": "code",
   "execution_count": null,
   "id": "dc156f72",
   "metadata": {},
   "outputs": [],
   "source": [
    "# Create timeline chart\n",
    "plt.figure(figsize=(12, 6))\n",
    "\n",
    "# Plot average ratings over time\n",
    "plt.plot(monthly_avg['month_year'], monthly_avg['mean'], marker='o', linewidth=2, markersize=8)\n",
    "\n",
    "# Add overall average line\n",
    "overall_avg = df['rating'].mean()\n",
    "plt.axhline(y=overall_avg, color='red', linestyle='--', alpha=0.7, \n",
    "            label=f'Overall Average: {overall_avg:.2f}')\n",
    "\n",
    "# Customize the plot\n",
    "plt.title('Average Rating Trend Over Time', fontsize=16, pad=20)\n",
    "plt.xlabel('Review Date (Month-Year)', fontsize=12)\n",
    "plt.ylabel('Average Rating (Stars)', fontsize=12)\n",
    "plt.ylim(0, 5.5)\n",
    "plt.grid(True, alpha=0.3)\n",
    "plt.legend()\n",
    "\n",
    "# Rotate x-axis labels for better readability\n",
    "plt.xticks(rotation=45, ha='right')\n",
    "\n",
    "# Add value labels on points\n",
    "for i, row in monthly_avg.iterrows():\n",
    "    plt.annotate(f'{row[\"mean\"]:.2f}', \n",
    "                 (row['month_year'], row['mean']), \n",
    "                 textcoords=\"offset points\", \n",
    "                 xytext=(0,10), \n",
    "                 ha='center')\n",
    "\n",
    "plt.tight_layout()\n",
    "plt.show()"
   ]
  },
  {
   "cell_type": "markdown",
   "id": "96bfdfbf",
   "metadata": {},
   "source": [
    "## Summary of Findings\n",
    "\n",
    "This analysis provides insights into the product reviews dataset:\n",
    "\n",
    "1. **Average Rating**: The overall average rating gives a quick snapshot of customer satisfaction.\n",
    "2. **Rating Distribution**: The bar chart shows how reviews are distributed across different rating levels.\n",
    "3. **Sentiment Analysis**: Word clouds reveal the most common words in positive vs negative reviews, helping identify key themes.\n",
    "4. **Trend Analysis**: The timeline chart shows how product satisfaction has changed over time.\n",
    "\n",
    "These visualizations can help businesses understand customer sentiment, identify product strengths and weaknesses, and track satisfaction trends."
   ]
  }
 ],
 "metadata": {
  "language_info": {
   "name": "python"
  }
 },
 "nbformat": 4,
 "nbformat_minor": 5
}
